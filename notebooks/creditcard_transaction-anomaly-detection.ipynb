{
 "cells": [
  {
   "cell_type": "code",
   "execution_count": null,
   "metadata": {},
   "outputs": [],
   "source": [
    "import pandas as pd\n",
    "import matplotlib.pylab as plt\n",
    "from matplotlib.pyplot import plot, show\n",
    "from sklearn.preprocessing import LabelEncoder\n",
    "from sklearn.model_selection import train_test_split\n",
    "from sklearn.ensemble import IsolationForest\n",
    "from sklearn.metrics import accuracy_score, precision_score, recall_score, f1_score\n",
    "import seaborn as sns\n",
    "import numpy as np\n",
    "plt.style.use('ggplot')"
   ]
  },
  {
   "cell_type": "code",
   "execution_count": null,
   "metadata": {},
   "outputs": [],
   "source": [
    "#setting up variables"
   ]
  },
  {
   "cell_type": "code",
   "execution_count": null,
   "metadata": {},
   "outputs": [],
   "source": [
    "#Loading the dataset\n",
    "df = pd.read_csv() "
   ]
  },
  {
   "cell_type": "code",
   "execution_count": null,
   "metadata": {},
   "outputs": [],
   "source": [
    "#Isolation tree\n",
    "model_IF = IsolationForest(contamination='auto', random_state=33)\n",
    "model_IF.fit(df)\n",
    "label = model_IF.predict(df) #Returns -1 for outliers and 1 for inliers.\n",
    "score = model_IF.decision_function(df)\n",
    "\n",
    "df['Label'] = label\n",
    "df['Score'] = score\n",
    "\n",
    "print(df)\n",
    "\n"
   ]
  },
  {
   "cell_type": "code",
   "execution_count": null,
   "metadata": {},
   "outputs": [],
   "source": [
    "#Visualizing \n",
    "df = df.sample(frac=.001)\n",
    "\n",
    "df['Label'].plot(kind='hist')\n",
    "plot(df['Department'], df['Division'], df['Label'], 'go')\n",
    "for label in df['Label']:\n",
    "  subset = df[df['Label'] == label]\n",
    "  if (label == -1):\n",
    "      plt.scatter(subset['Department'], subset['Division'], s=100, c=\"red\")\n",
    "  elif label == 1:\n",
    "      plt.scatter(subset['Department'], subset['Division'], s=100, c=\"blue\")\n",
    "\n",
    "\n",
    "plt.title('Anomaly')\n",
    "plt.xlabel('Department')\n",
    "plt.ylabel('Division')\n",
    "plt.legend()\n",
    "plt.show()"
   ]
  }
 ],
 "metadata": {
  "language_info": {
   "name": "python"
  }
 },
 "nbformat": 4,
 "nbformat_minor": 2
}
