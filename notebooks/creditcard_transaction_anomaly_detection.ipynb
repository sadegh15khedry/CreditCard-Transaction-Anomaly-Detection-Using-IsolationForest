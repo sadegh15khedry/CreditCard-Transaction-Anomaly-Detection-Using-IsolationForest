{
 "cells": [
  {
   "cell_type": "code",
   "execution_count": null,
   "metadata": {},
   "outputs": [],
   "source": [
    "import sys\n",
    "import os\n",
    "sys.path.append(os.path.abspath('../src'))\n",
    "from utils import load_dataset\n",
    "from creditcard_transaction_anomaly_detection import visualize_results, detect_anomaly, get_Isolation_forest_model"
   ]
  },
  {
   "cell_type": "code",
   "execution_count": null,
   "metadata": {},
   "outputs": [],
   "source": [
    "#setting up variables\n",
    "dataset_path = '../datasets/processed_creditcard_Transaction'"
   ]
  },
  {
   "cell_type": "code",
   "execution_count": null,
   "metadata": {},
   "outputs": [],
   "source": [
    "#Loading the dataset\n",
    "df = load_dataset(dataset_path) "
   ]
  },
  {
   "cell_type": "code",
   "execution_count": null,
   "metadata": {},
   "outputs": [],
   "source": [
    "#Isolation tree\n",
    "model_IF = get_Isolation_forest_model()\n",
    "# IsolationForest(contamination='auto', random_state=33)\n",
    "\n",
    "# Training the model\n",
    "model_IF.fit(df)\n",
    "\n",
    "# Detecting anomaly\n",
    "df = detect_anomaly(model_IF, df)\n",
    "\n"
   ]
  },
  {
   "cell_type": "code",
   "execution_count": null,
   "metadata": {},
   "outputs": [],
   "source": [
    "#Visualizing \n",
    "df = df.sample(frac=.001)\n",
    "visualize_results(df)\n"
   ]
  }
 ],
 "metadata": {
  "kernelspec": {
   "display_name": "Python 3 (ipykernel)",
   "language": "python",
   "name": "python3"
  },
  "language_info": {
   "codemirror_mode": {
    "name": "ipython",
    "version": 3
   },
   "file_extension": ".py",
   "mimetype": "text/x-python",
   "name": "python",
   "nbconvert_exporter": "python",
   "pygments_lexer": "ipython3",
   "version": "3.9.19"
  }
 },
 "nbformat": 4,
 "nbformat_minor": 2
}
